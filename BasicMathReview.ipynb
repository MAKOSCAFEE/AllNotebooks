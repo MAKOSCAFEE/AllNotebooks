{
 "cells": [
  {
   "cell_type": "markdown",
   "metadata": {},
   "source": [
    "# 1. Linear Algebra\n",
    "\n",
    "In the context of deep learning, linear algebra is a mathematical toolbox that offers helpful techniques for manipulating groups of numbers simultaneously. It provides structures like vectors and matrices (spreadsheets) to hold these numbers and new rules for how to add, subtract, multiply, and divide them."
   ]
  },
  {
   "cell_type": "markdown",
   "metadata": {},
   "source": [
    "## 1.1 Vector"
   ]
  },
  {
   "cell_type": "markdown",
   "metadata": {},
   "source": [
    "A vector of n dimensions is an ordered collection of n coordinates, where each coordinate is a scalar of the\n",
    "underlying field. An n-dimensional vector v with real coordinates is an element of R^n "
   ]
  },
  {
   "cell_type": "code",
   "execution_count": 1,
   "metadata": {},
   "outputs": [],
   "source": [
    "import numpy as np"
   ]
  },
  {
   "cell_type": "code",
   "execution_count": 2,
   "metadata": {},
   "outputs": [],
   "source": [
    "y = np.array([1,2,3])\n",
    "x = np.array([2,3,4])"
   ]
  },
  {
   "cell_type": "markdown",
   "metadata": {},
   "source": [
    "### 1.1.1 Elementwise Operations"
   ]
  },
  {
   "cell_type": "code",
   "execution_count": 3,
   "metadata": {},
   "outputs": [
    {
     "data": {
      "text/plain": [
       "array([3, 5, 7])"
      ]
     },
     "execution_count": 3,
     "metadata": {},
     "output_type": "execute_result"
    }
   ],
   "source": [
    "y + x"
   ]
  },
  {
   "cell_type": "code",
   "execution_count": 4,
   "metadata": {},
   "outputs": [
    {
     "data": {
      "text/plain": [
       "array([-1, -1, -1])"
      ]
     },
     "execution_count": 4,
     "metadata": {},
     "output_type": "execute_result"
    }
   ],
   "source": [
    "y-x"
   ]
  },
  {
   "cell_type": "code",
   "execution_count": 5,
   "metadata": {},
   "outputs": [
    {
     "data": {
      "text/plain": [
       "array([0.5       , 0.66666667, 0.75      ])"
      ]
     },
     "execution_count": 5,
     "metadata": {},
     "output_type": "execute_result"
    }
   ],
   "source": [
    "y/x"
   ]
  },
  {
   "cell_type": "markdown",
   "metadata": {},
   "source": [
    "### 1.1.2 Dot  productions\n",
    "\n",
    "The dot product of two vectors is a scalar. Dot product of vectors and matrices (matrix multiplication) is one of the most important operations in deep learning."
   ]
  },
  {
   "cell_type": "code",
   "execution_count": 6,
   "metadata": {},
   "outputs": [
    {
     "data": {
      "text/plain": [
       "20"
      ]
     },
     "execution_count": 6,
     "metadata": {},
     "output_type": "execute_result"
    }
   ],
   "source": [
    "np.dot(y,x)"
   ]
  },
  {
   "cell_type": "markdown",
   "metadata": {},
   "source": [
    "### 1.1.3 Hadamard product\n",
    "This is element wise multiplication which results to another vector."
   ]
  },
  {
   "cell_type": "code",
   "execution_count": 7,
   "metadata": {},
   "outputs": [
    {
     "data": {
      "text/plain": [
       "array([ 2,  6, 12])"
      ]
     },
     "execution_count": 7,
     "metadata": {},
     "output_type": "execute_result"
    }
   ],
   "source": [
    "x * y"
   ]
  },
  {
   "cell_type": "markdown",
   "metadata": {},
   "source": [
    "# 2. Matrices\n",
    "\n",
    "Matrix is a rectangular array of scalars. Primarily, an n × m matrix A is used to describe a linear\n",
    "transformation from m to n dimensions, where the matrix is an operator. We describe the dimensions of a matrix in terms of rows by columns\n",
    "\n",
    "\\begin{split}\\begin{bmatrix}\n",
    "2 & 4 \\\\\n",
    "5 & -7 \\\\\n",
    "12 & 5 \\\\\n",
    "\\end{bmatrix}\n",
    "\\begin{bmatrix}\n",
    "a² & 2a & 8\\\\\n",
    "18 & 7a-4 & 10\\\\\n",
    "\\end{bmatrix}\\end{split}\n",
    "\n",
    "The first has dimensions (3,2). The second (2,3)."
   ]
  },
  {
   "cell_type": "code",
   "execution_count": 10,
   "metadata": {},
   "outputs": [],
   "source": [
    "a = np.array([[1,2,3],[4,5,6]])\n",
    "\n",
    "b = np.array([[1,2,3]])"
   ]
  },
  {
   "cell_type": "markdown",
   "metadata": {},
   "source": [
    "## 2.1 Scalar Operations\n",
    "Scalar operations with matrices work the same way as they do for vectors. Simply apply the scalar to every element in the matrix — add, subtract, divide, multiply, etc.\n",
    "\n",
    "\\begin{split}\\begin{bmatrix}\n",
    "2 & 3 \\\\\n",
    "2 & 3 \\\\\n",
    "2 & 3 \\\\\n",
    "\\end{bmatrix}\n",
    "+\n",
    "1\n",
    "=\n",
    "\\begin{bmatrix}\n",
    "3 & 4 \\\\\n",
    "3 & 4 \\\\\n",
    "3 & 4 \\\\\n",
    "\\end{bmatrix}\\end{split}\n",
    "\n"
   ]
  },
  {
   "cell_type": "code",
   "execution_count": 11,
   "metadata": {},
   "outputs": [
    {
     "data": {
      "text/plain": [
       "array([[2, 3, 4],\n",
       "       [5, 6, 7]])"
      ]
     },
     "execution_count": 11,
     "metadata": {},
     "output_type": "execute_result"
    }
   ],
   "source": [
    "a + 1"
   ]
  },
  {
   "cell_type": "markdown",
   "metadata": {},
   "source": [
    "## 2.2 Elementwise operations\n",
    "In order to add, subtract, or divide two matrices they must have equal dimensions. We combine corresponding values in an elementwise fashion to produce a new matrix.\n",
    "\\begin{split}\\begin{bmatrix}\n",
    "a & b \\\\\n",
    "c & d \\\\\n",
    "\\end{bmatrix}\n",
    "+\n",
    "\\begin{bmatrix}\n",
    "1 & 2\\\\\n",
    "3 & 4 \\\\\n",
    "\\end{bmatrix}\n",
    "=\n",
    "\\begin{bmatrix}\n",
    "a+1 & b+2\\\\\n",
    "c+3 & d+4 \\\\\n",
    "\\end{bmatrix}\\end{split}"
   ]
  },
  {
   "cell_type": "code",
   "execution_count": 16,
   "metadata": {},
   "outputs": [],
   "source": [
    "a = np.array([[1,2],[3,4]])\n",
    "b = np.array([[3,4],[5,6]])"
   ]
  },
  {
   "cell_type": "code",
   "execution_count": 17,
   "metadata": {},
   "outputs": [
    {
     "data": {
      "text/plain": [
       "array([[ 4,  6],\n",
       "       [ 8, 10]])"
      ]
     },
     "execution_count": 17,
     "metadata": {},
     "output_type": "execute_result"
    }
   ],
   "source": [
    "a + b"
   ]
  },
  {
   "cell_type": "code",
   "execution_count": 18,
   "metadata": {},
   "outputs": [
    {
     "data": {
      "text/plain": [
       "array([[2, 2],\n",
       "       [2, 2]])"
      ]
     },
     "execution_count": 18,
     "metadata": {},
     "output_type": "execute_result"
    }
   ],
   "source": [
    "b-a"
   ]
  },
  {
   "cell_type": "markdown",
   "metadata": {},
   "source": [
    "## 2.3 Hardmard production\n",
    "\n",
    "Hadamard product of matrices is an elementwise operation. Values that correspond positionally are multiplied to produce a new matrix.\n",
    "\n",
    "\\begin{split}\\begin{bmatrix}\n",
    "a_1 & a_2 \\\\\n",
    "a_3 & a_4 \\\\\n",
    "\\end{bmatrix}\n",
    "\\odot\n",
    "\\begin{bmatrix}\n",
    "b_1 & b_2 \\\\\n",
    "b_3 & b_4 \\\\\n",
    "\\end{bmatrix}\n",
    "=\n",
    "\\begin{bmatrix}\n",
    "a_1 \\cdot b_1 & a_2 \\cdot b_2 \\\\\n",
    "a_3 \\cdot b_3 & a_4 \\cdot b_4 \\\\\n",
    "\\end{bmatrix}\\end{split}\n",
    "\n",
    "\n",
    "AB is a valid matrix product if A is `p × q` and B is `q × r` (left matrix has same number of columns\n",
    "as right matrix has rows).\n",
    "\n",
    "NOTE: Not all Matrices are eligible for multiplication. here are the rules\n",
    "* The number of columns of the 1st matrix must equal the number of rows of the 2nd\n",
    "* The product of an M x N matrix and an N x K matrix is an M x K matrix. The new matrix takes the rows of the 1st and columns of the 2nd\n",
    "\n",
    "Matrix multiplication relies on dot product to multiply various combinations of rows and columns. In the image below, taken from Khan Academy’s excellent linear algebra course, each entry in Matrix C is the dot product of a row in matrix A and a column in matrix B \n",
    "\n",
    "\n",
    "\\begin{split}\\begin{bmatrix}\n",
    "a & b \\\\\n",
    "c & d \\\\\n",
    "e & f \\\\\n",
    "\\end{bmatrix}\n",
    "\\cdot\n",
    "\\begin{bmatrix}\n",
    "1 & 2 \\\\\n",
    "3 & 4 \\\\\n",
    "\\end{bmatrix}\n",
    "=\n",
    "\\begin{bmatrix}\n",
    "1a + 3b & 2a + 4b \\\\\n",
    "1c + 3d & 2c + 4d \\\\\n",
    "1e + 3f & 2e + 4f \\\\\n",
    "\\end{bmatrix}\\end{split}"
   ]
  },
  {
   "cell_type": "code",
   "execution_count": 19,
   "metadata": {},
   "outputs": [
    {
     "data": {
      "text/plain": [
       "array([[ 3,  8],\n",
       "       [15, 24]])"
      ]
     },
     "execution_count": 19,
     "metadata": {},
     "output_type": "execute_result"
    }
   ],
   "source": [
    "a*b"
   ]
  },
  {
   "cell_type": "markdown",
   "metadata": {},
   "source": [
    "## 2.4 Matrix transpose\n",
    "\n",
    "Neural networks frequently process weights and inputs of different sizes where the dimensions do not meet the requirements of matrix multiplication. Matrix transpose provides a way to “rotate” one of the matrices so that the operation complies with multiplication requirements and can continue. There are two steps to transpose a matrix:\n",
    "\n",
    "- Rotate the matrix right 90°\n",
    "- Reverse the order of elements in each row (e.g. [a b c] becomes [c b a])\n",
    "\n",
    "As an example, transpose matrix M into T:\n",
    "\n",
    "\\begin{split}\\begin{bmatrix}\n",
    "a & b \\\\\n",
    "c & d \\\\\n",
    "e & f \\\\\n",
    "\\end{bmatrix}\n",
    "\\quad \\Rightarrow \\quad\n",
    "\\begin{bmatrix}\n",
    "a & c & e \\\\\n",
    "b & d & f \\\\\n",
    "\\end{bmatrix}\\end{split}"
   ]
  },
  {
   "cell_type": "markdown",
   "metadata": {},
   "source": [
    "# 3. Calculus\n",
    "\n",
    "You need to know some basic calculus in order to understand how functions change over time `(derivatives)`, and to calculate the total amount of a quantity that accumulates over a time period `(integrals)`. The language of calculus will allow you to speak precisely about the properties of functions and better understand their behaviour.\n",
    "\n",
    "## 3.1 Derivertives\n",
    "\n",
    "it is an instantaneous rate of change\n"
   ]
  },
  {
   "cell_type": "code",
   "execution_count": 20,
   "metadata": {},
   "outputs": [
    {
     "data": {
      "text/plain": [
       "(6.000100000012054, 6)"
      ]
     },
     "execution_count": 20,
     "metadata": {},
     "output_type": "execute_result"
    }
   ],
   "source": [
    "def get_derivative(func, x):\n",
    "    \"\"\"Compute the derivative of `func` at the location `x`.\"\"\"\n",
    "    h = 0.0001                          # step size\n",
    "    return (func(x+h) - func(x)) / h    # rise-over-run\n",
    "\n",
    "def f(x): return x**2                   # some test function f(x)=x^2\n",
    "x = 3                                   # the location of interest\n",
    "computed = get_derivative(f, x)\n",
    "actual = 2*x\n",
    "\n",
    "computed, actual   # = 6.0001, 6        # pretty close if you ask me..."
   ]
  },
  {
   "cell_type": "code",
   "execution_count": null,
   "metadata": {},
   "outputs": [],
   "source": []
  }
 ],
 "metadata": {
  "kernelspec": {
   "display_name": "Python 3",
   "language": "python",
   "name": "python3"
  },
  "language_info": {
   "codemirror_mode": {
    "name": "ipython",
    "version": 3
   },
   "file_extension": ".py",
   "mimetype": "text/x-python",
   "name": "python",
   "nbconvert_exporter": "python",
   "pygments_lexer": "ipython3",
   "version": "3.7.1"
  }
 },
 "nbformat": 4,
 "nbformat_minor": 2
}
