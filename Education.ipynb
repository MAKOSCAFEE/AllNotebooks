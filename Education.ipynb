{
 "cells": [
  {
   "cell_type": "code",
   "execution_count": 68,
   "metadata": {
    "collapsed": true
   },
   "outputs": [],
   "source": [
    "%matplotlib inline\n",
    "from collections import defaultdict\n",
    "import json\n",
    "\n",
    "import numpy as np\n",
    "import matplotlib.pyplot as plt\n",
    "import pandas as pd\n",
    "\n",
    "from matplotlib import rcParams\n",
    "import matplotlib.cm as cm\n",
    "import matplotlib as mpl\n",
    "import matplotlib.pyplot as plt"
   ]
  },
  {
   "cell_type": "markdown",
   "metadata": {},
   "source": [
    "### Load Data"
   ]
  },
  {
   "cell_type": "code",
   "execution_count": 44,
   "metadata": {
    "collapsed": false
   },
   "outputs": [
    {
     "data": {
      "text/plain": [
       "(15866, 13)"
      ]
     },
     "execution_count": 44,
     "metadata": {},
     "output_type": "execute_result"
    }
   ],
   "source": [
    "df = pd.read_csv('PrimarySchoolsPerfomanceAndLocation-2014.csv')\n",
    "df.shape"
   ]
  },
  {
   "cell_type": "code",
   "execution_count": 45,
   "metadata": {
    "collapsed": false
   },
   "outputs": [
    {
     "data": {
      "text/plain": [
       "Index([u'CODE', u'NAME', u'REGION', u'DISTRICT', u'WARD', u'OWNERSHIP',\n",
       "       u'LONGITUDE', u'LATITUDE', u'PASS_RATE', u'AVG_MARK',\n",
       "       u'CHANGE_PREVIOUS_YEAR', u'RANK', u'YEAR_OF_RESULT'],\n",
       "      dtype='object')"
      ]
     },
     "execution_count": 45,
     "metadata": {},
     "output_type": "execute_result"
    }
   ],
   "source": [
    "df.columns"
   ]
  },
  {
   "cell_type": "code",
   "execution_count": 46,
   "metadata": {
    "collapsed": false
   },
   "outputs": [],
   "source": [
    "col =['NAME','REGION','DISTRICT','OWNERSHIP','PASS_RATE','AVG_MARK','CHANGE_PREVIOUS_YEAR','RANK']\n",
    "for c in df.columns:\n",
    "    if c not in col:\n",
    "        df=df.drop(c,axis=1)"
   ]
  },
  {
   "cell_type": "code",
   "execution_count": 47,
   "metadata": {
    "collapsed": false
   },
   "outputs": [
    {
     "data": {
      "text/plain": [
       "(15866, 8)"
      ]
     },
     "execution_count": 47,
     "metadata": {},
     "output_type": "execute_result"
    }
   ],
   "source": [
    "df.shape"
   ]
  },
  {
   "cell_type": "code",
   "execution_count": 48,
   "metadata": {
    "collapsed": false
   },
   "outputs": [
    {
     "data": {
      "text/plain": [
       "array(['GOVERNMENT', nan, 'NON GOVERNMENT'], dtype=object)"
      ]
     },
     "execution_count": 48,
     "metadata": {},
     "output_type": "execute_result"
    }
   ],
   "source": [
    "df.OWNERSHIP.unique()"
   ]
  },
  {
   "cell_type": "code",
   "execution_count": 54,
   "metadata": {
    "collapsed": false
   },
   "outputs": [
    {
     "data": {
      "text/html": [
       "<div>\n",
       "<table border=\"1\" class=\"dataframe\">\n",
       "  <thead>\n",
       "    <tr style=\"text-align: right;\">\n",
       "      <th></th>\n",
       "      <th>NAME</th>\n",
       "      <th>REGION</th>\n",
       "      <th>DISTRICT</th>\n",
       "      <th>OWNERSHIP</th>\n",
       "      <th>PASS_RATE</th>\n",
       "      <th>AVG_MARK</th>\n",
       "      <th>CHANGE_PREVIOUS_YEAR</th>\n",
       "      <th>RANK</th>\n",
       "    </tr>\n",
       "  </thead>\n",
       "  <tbody>\n",
       "    <tr>\n",
       "      <th>0</th>\n",
       "      <td>BANGATA PR. SCHOOL</td>\n",
       "      <td>ARUSHA</td>\n",
       "      <td>ARUSHA</td>\n",
       "      <td>GOVERNMENT</td>\n",
       "      <td>51.52</td>\n",
       "      <td>99.29</td>\n",
       "      <td>13.05</td>\n",
       "      <td>9426</td>\n",
       "    </tr>\n",
       "    <tr>\n",
       "      <th>1</th>\n",
       "      <td>BWAWANI PR. SCHOOL</td>\n",
       "      <td>ARUSHA</td>\n",
       "      <td>ARUSHA</td>\n",
       "      <td>GOVERNMENT</td>\n",
       "      <td>26.83</td>\n",
       "      <td>85.78</td>\n",
       "      <td>8.42</td>\n",
       "      <td>13056</td>\n",
       "    </tr>\n",
       "    <tr>\n",
       "      <th>2</th>\n",
       "      <td>EKENYWA PR. SCHOOL</td>\n",
       "      <td>ARUSHA</td>\n",
       "      <td>ARUSHA</td>\n",
       "      <td>GOVERNMENT</td>\n",
       "      <td>65.31</td>\n",
       "      <td>108.33</td>\n",
       "      <td>7.18</td>\n",
       "      <td>6842</td>\n",
       "    </tr>\n",
       "    <tr>\n",
       "      <th>3</th>\n",
       "      <td>EMAOI PR. SCHOOL</td>\n",
       "      <td>ARUSHA</td>\n",
       "      <td>ARUSHA</td>\n",
       "      <td>GOVERNMENT</td>\n",
       "      <td>100.00</td>\n",
       "      <td>135.09</td>\n",
       "      <td>25.83</td>\n",
       "      <td>2296</td>\n",
       "    </tr>\n",
       "    <tr>\n",
       "      <th>4</th>\n",
       "      <td>ENDONYOESOIYE PR. SCHOOL</td>\n",
       "      <td>ARUSHA</td>\n",
       "      <td>ARUSHA</td>\n",
       "      <td>NaN</td>\n",
       "      <td>43.84</td>\n",
       "      <td>96.10</td>\n",
       "      <td>11.51</td>\n",
       "      <td>10363</td>\n",
       "    </tr>\n",
       "    <tr>\n",
       "      <th>5</th>\n",
       "      <td>ENGALAONI PR. SCHOOL</td>\n",
       "      <td>ARUSHA</td>\n",
       "      <td>ARUSHA</td>\n",
       "      <td>GOVERNMENT</td>\n",
       "      <td>88.10</td>\n",
       "      <td>120.17</td>\n",
       "      <td>30.46</td>\n",
       "      <td>4220</td>\n",
       "    </tr>\n",
       "    <tr>\n",
       "      <th>6</th>\n",
       "      <td>ENGORIKA PR. SCHOOL</td>\n",
       "      <td>ARUSHA</td>\n",
       "      <td>ARUSHA</td>\n",
       "      <td>GOVERNMENT</td>\n",
       "      <td>42.86</td>\n",
       "      <td>100.10</td>\n",
       "      <td>5.98</td>\n",
       "      <td>9195</td>\n",
       "    </tr>\n",
       "    <tr>\n",
       "      <th>7</th>\n",
       "      <td>ENGUTUKOITI PR. SCHOOL</td>\n",
       "      <td>ARUSHA</td>\n",
       "      <td>ARUSHA</td>\n",
       "      <td>GOVERNMENT</td>\n",
       "      <td>4.76</td>\n",
       "      <td>70.10</td>\n",
       "      <td>-25.99</td>\n",
       "      <td>15425</td>\n",
       "    </tr>\n",
       "    <tr>\n",
       "      <th>8</th>\n",
       "      <td>ENYUATA PR. SCHOOL</td>\n",
       "      <td>ARUSHA</td>\n",
       "      <td>ARUSHA</td>\n",
       "      <td>GOVERNMENT</td>\n",
       "      <td>86.55</td>\n",
       "      <td>131.43</td>\n",
       "      <td>11.22</td>\n",
       "      <td>2666</td>\n",
       "    </tr>\n",
       "    <tr>\n",
       "      <th>9</th>\n",
       "      <td>GREEN ACRES PR. SCHOOL</td>\n",
       "      <td>ARUSHA</td>\n",
       "      <td>ARUSHA</td>\n",
       "      <td>NON GOVERNMENT</td>\n",
       "      <td>100.00</td>\n",
       "      <td>200.03</td>\n",
       "      <td>8.15</td>\n",
       "      <td>84</td>\n",
       "    </tr>\n",
       "  </tbody>\n",
       "</table>\n",
       "</div>"
      ],
      "text/plain": [
       "                       NAME  REGION DISTRICT       OWNERSHIP  PASS_RATE  \\\n",
       "0        BANGATA PR. SCHOOL  ARUSHA   ARUSHA      GOVERNMENT      51.52   \n",
       "1        BWAWANI PR. SCHOOL  ARUSHA   ARUSHA      GOVERNMENT      26.83   \n",
       "2        EKENYWA PR. SCHOOL  ARUSHA   ARUSHA      GOVERNMENT      65.31   \n",
       "3          EMAOI PR. SCHOOL  ARUSHA   ARUSHA      GOVERNMENT     100.00   \n",
       "4  ENDONYOESOIYE PR. SCHOOL  ARUSHA   ARUSHA             NaN      43.84   \n",
       "5      ENGALAONI PR. SCHOOL  ARUSHA   ARUSHA      GOVERNMENT      88.10   \n",
       "6       ENGORIKA PR. SCHOOL  ARUSHA   ARUSHA      GOVERNMENT      42.86   \n",
       "7    ENGUTUKOITI PR. SCHOOL  ARUSHA   ARUSHA      GOVERNMENT       4.76   \n",
       "8        ENYUATA PR. SCHOOL  ARUSHA   ARUSHA      GOVERNMENT      86.55   \n",
       "9    GREEN ACRES PR. SCHOOL  ARUSHA   ARUSHA  NON GOVERNMENT     100.00   \n",
       "\n",
       "   AVG_MARK  CHANGE_PREVIOUS_YEAR   RANK  \n",
       "0     99.29                 13.05   9426  \n",
       "1     85.78                  8.42  13056  \n",
       "2    108.33                  7.18   6842  \n",
       "3    135.09                 25.83   2296  \n",
       "4     96.10                 11.51  10363  \n",
       "5    120.17                 30.46   4220  \n",
       "6    100.10                  5.98   9195  \n",
       "7     70.10                -25.99  15425  \n",
       "8    131.43                 11.22   2666  \n",
       "9    200.03                  8.15     84  "
      ]
     },
     "execution_count": 54,
     "metadata": {},
     "output_type": "execute_result"
    }
   ],
   "source": [
    "df.head(10)"
   ]
  },
  {
   "cell_type": "markdown",
   "metadata": {},
   "source": [
    "### We need to know number of primary school which did standard seven exam year 2015"
   ]
  },
  {
   "cell_type": "code",
   "execution_count": 61,
   "metadata": {
    "collapsed": false
   },
   "outputs": [
    {
     "data": {
      "text/plain": [
       "15866"
      ]
     },
     "execution_count": 61,
     "metadata": {},
     "output_type": "execute_result"
    }
   ],
   "source": [
    "df.shape[0]"
   ]
  },
  {
   "cell_type": "markdown",
   "metadata": {},
   "source": [
    "##### There about 15866 schools "
   ]
  },
  {
   "cell_type": "markdown",
   "metadata": {},
   "source": [
    "#### Ownership of the School \n",
    "can be seen below schools are grouped either Government or Non Government schools and there are about 2833 schools which have no type"
   ]
  },
  {
   "cell_type": "code",
   "execution_count": 62,
   "metadata": {
    "collapsed": false
   },
   "outputs": [
    {
     "name": "stdout",
     "output_type": "stream",
     "text": [
      "['GOVERNMENT' nan 'NON GOVERNMENT']\n"
     ]
    }
   ],
   "source": [
    "print df.OWNERSHIP.unique()"
   ]
  },
  {
   "cell_type": "markdown",
   "metadata": {},
   "source": [
    "how many do not have type or they are empty?"
   ]
  },
  {
   "cell_type": "code",
   "execution_count": 60,
   "metadata": {
    "collapsed": false
   },
   "outputs": [
    {
     "data": {
      "text/plain": [
       "2833"
      ]
     },
     "execution_count": 60,
     "metadata": {},
     "output_type": "execute_result"
    }
   ],
   "source": [
    "df[df.OWNERSHIP.isnull()].shape[0]"
   ]
  },
  {
   "cell_type": "markdown",
   "metadata": {},
   "source": [
    "Sample of school which ownership is empty"
   ]
  },
  {
   "cell_type": "code",
   "execution_count": 55,
   "metadata": {
    "collapsed": false
   },
   "outputs": [
    {
     "data": {
      "text/html": [
       "<div>\n",
       "<table border=\"1\" class=\"dataframe\">\n",
       "  <thead>\n",
       "    <tr style=\"text-align: right;\">\n",
       "      <th></th>\n",
       "      <th>NAME</th>\n",
       "      <th>REGION</th>\n",
       "      <th>DISTRICT</th>\n",
       "      <th>OWNERSHIP</th>\n",
       "      <th>PASS_RATE</th>\n",
       "      <th>AVG_MARK</th>\n",
       "      <th>CHANGE_PREVIOUS_YEAR</th>\n",
       "      <th>RANK</th>\n",
       "    </tr>\n",
       "  </thead>\n",
       "  <tbody>\n",
       "    <tr>\n",
       "      <th>4</th>\n",
       "      <td>ENDONYOESOIYE PR. SCHOOL</td>\n",
       "      <td>ARUSHA</td>\n",
       "      <td>ARUSHA</td>\n",
       "      <td>NaN</td>\n",
       "      <td>43.84</td>\n",
       "      <td>96.10</td>\n",
       "      <td>11.51</td>\n",
       "      <td>10363</td>\n",
       "    </tr>\n",
       "    <tr>\n",
       "      <th>18</th>\n",
       "      <td>KAMBI YA MAZIWA PR. SCHOOL</td>\n",
       "      <td>ARUSHA</td>\n",
       "      <td>ARUSHA</td>\n",
       "      <td>NaN</td>\n",
       "      <td>86.67</td>\n",
       "      <td>122.29</td>\n",
       "      <td>-0.13</td>\n",
       "      <td>3875</td>\n",
       "    </tr>\n",
       "    <tr>\n",
       "      <th>67</th>\n",
       "      <td>OLDONYOSAPUK PR. SCHOOL</td>\n",
       "      <td>ARUSHA</td>\n",
       "      <td>ARUSHA</td>\n",
       "      <td>NaN</td>\n",
       "      <td>98.73</td>\n",
       "      <td>160.06</td>\n",
       "      <td>66.59</td>\n",
       "      <td>744</td>\n",
       "    </tr>\n",
       "    <tr>\n",
       "      <th>86</th>\n",
       "      <td>THEMI YA SIMBA PR. SCHOOL</td>\n",
       "      <td>ARUSHA</td>\n",
       "      <td>ARUSHA</td>\n",
       "      <td>NaN</td>\n",
       "      <td>44.44</td>\n",
       "      <td>95.61</td>\n",
       "      <td>26.11</td>\n",
       "      <td>10496</td>\n",
       "    </tr>\n",
       "    <tr>\n",
       "      <th>94</th>\n",
       "      <td>SOTWA WILSON PR. SCHOOL</td>\n",
       "      <td>ARUSHA</td>\n",
       "      <td>ARUSHA</td>\n",
       "      <td>NaN</td>\n",
       "      <td>100.00</td>\n",
       "      <td>120.75</td>\n",
       "      <td>3.32</td>\n",
       "      <td>4118</td>\n",
       "    </tr>\n",
       "    <tr>\n",
       "      <th>98</th>\n",
       "      <td>ASSALAF ISLAMIC PR. SCHOOL</td>\n",
       "      <td>ARUSHA</td>\n",
       "      <td>ARUSHA</td>\n",
       "      <td>NaN</td>\n",
       "      <td>100.00</td>\n",
       "      <td>162.83</td>\n",
       "      <td>0.94</td>\n",
       "      <td>673</td>\n",
       "    </tr>\n",
       "    <tr>\n",
       "      <th>104</th>\n",
       "      <td>ARUSHA HILL SIDE</td>\n",
       "      <td>ARUSHA</td>\n",
       "      <td>ARUSHA</td>\n",
       "      <td>NaN</td>\n",
       "      <td>28.57</td>\n",
       "      <td>93.57</td>\n",
       "      <td>0.00</td>\n",
       "      <td>11085</td>\n",
       "    </tr>\n",
       "    <tr>\n",
       "      <th>105</th>\n",
       "      <td>EBENEZER</td>\n",
       "      <td>ARUSHA</td>\n",
       "      <td>ARUSHA</td>\n",
       "      <td>NaN</td>\n",
       "      <td>100.00</td>\n",
       "      <td>159.29</td>\n",
       "      <td>0.00</td>\n",
       "      <td>774</td>\n",
       "    </tr>\n",
       "    <tr>\n",
       "      <th>106</th>\n",
       "      <td>EUNOTO</td>\n",
       "      <td>ARUSHA</td>\n",
       "      <td>ARUSHA</td>\n",
       "      <td>NaN</td>\n",
       "      <td>72.41</td>\n",
       "      <td>118.93</td>\n",
       "      <td>0.00</td>\n",
       "      <td>4490</td>\n",
       "    </tr>\n",
       "    <tr>\n",
       "      <th>107</th>\n",
       "      <td>ILKONERE</td>\n",
       "      <td>ARUSHA</td>\n",
       "      <td>ARUSHA</td>\n",
       "      <td>NaN</td>\n",
       "      <td>68.75</td>\n",
       "      <td>107.90</td>\n",
       "      <td>0.00</td>\n",
       "      <td>6953</td>\n",
       "    </tr>\n",
       "  </tbody>\n",
       "</table>\n",
       "</div>"
      ],
      "text/plain": [
       "                           NAME  REGION DISTRICT OWNERSHIP  PASS_RATE  \\\n",
       "4      ENDONYOESOIYE PR. SCHOOL  ARUSHA   ARUSHA       NaN      43.84   \n",
       "18   KAMBI YA MAZIWA PR. SCHOOL  ARUSHA   ARUSHA       NaN      86.67   \n",
       "67      OLDONYOSAPUK PR. SCHOOL  ARUSHA   ARUSHA       NaN      98.73   \n",
       "86    THEMI YA SIMBA PR. SCHOOL  ARUSHA   ARUSHA       NaN      44.44   \n",
       "94      SOTWA WILSON PR. SCHOOL  ARUSHA   ARUSHA       NaN     100.00   \n",
       "98   ASSALAF ISLAMIC PR. SCHOOL  ARUSHA   ARUSHA       NaN     100.00   \n",
       "104            ARUSHA HILL SIDE  ARUSHA   ARUSHA       NaN      28.57   \n",
       "105                    EBENEZER  ARUSHA   ARUSHA       NaN     100.00   \n",
       "106                      EUNOTO  ARUSHA   ARUSHA       NaN      72.41   \n",
       "107                    ILKONERE  ARUSHA   ARUSHA       NaN      68.75   \n",
       "\n",
       "     AVG_MARK  CHANGE_PREVIOUS_YEAR   RANK  \n",
       "4       96.10                 11.51  10363  \n",
       "18     122.29                 -0.13   3875  \n",
       "67     160.06                 66.59    744  \n",
       "86      95.61                 26.11  10496  \n",
       "94     120.75                  3.32   4118  \n",
       "98     162.83                  0.94    673  \n",
       "104     93.57                  0.00  11085  \n",
       "105    159.29                  0.00    774  \n",
       "106    118.93                  0.00   4490  \n",
       "107    107.90                  0.00   6953  "
      ]
     },
     "execution_count": 55,
     "metadata": {},
     "output_type": "execute_result"
    }
   ],
   "source": [
    "df[df.OWNERSHIP.isnull()].head(10)"
   ]
  },
  {
   "cell_type": "markdown",
   "metadata": {},
   "source": [
    "####  Those which ownership is not null, either Government or Non Government"
   ]
  },
  {
   "cell_type": "code",
   "execution_count": 64,
   "metadata": {
    "collapsed": false
   },
   "outputs": [
    {
     "data": {
      "text/html": [
       "<div>\n",
       "<table border=\"1\" class=\"dataframe\">\n",
       "  <thead>\n",
       "    <tr style=\"text-align: right;\">\n",
       "      <th></th>\n",
       "      <th>NAME</th>\n",
       "      <th>REGION</th>\n",
       "      <th>DISTRICT</th>\n",
       "      <th>OWNERSHIP</th>\n",
       "      <th>PASS_RATE</th>\n",
       "      <th>AVG_MARK</th>\n",
       "      <th>CHANGE_PREVIOUS_YEAR</th>\n",
       "      <th>RANK</th>\n",
       "    </tr>\n",
       "  </thead>\n",
       "  <tbody>\n",
       "    <tr>\n",
       "      <th>0</th>\n",
       "      <td>BANGATA PR. SCHOOL</td>\n",
       "      <td>ARUSHA</td>\n",
       "      <td>ARUSHA</td>\n",
       "      <td>GOVERNMENT</td>\n",
       "      <td>51.52</td>\n",
       "      <td>99.29</td>\n",
       "      <td>13.05</td>\n",
       "      <td>9426</td>\n",
       "    </tr>\n",
       "    <tr>\n",
       "      <th>1</th>\n",
       "      <td>BWAWANI PR. SCHOOL</td>\n",
       "      <td>ARUSHA</td>\n",
       "      <td>ARUSHA</td>\n",
       "      <td>GOVERNMENT</td>\n",
       "      <td>26.83</td>\n",
       "      <td>85.78</td>\n",
       "      <td>8.42</td>\n",
       "      <td>13056</td>\n",
       "    </tr>\n",
       "    <tr>\n",
       "      <th>2</th>\n",
       "      <td>EKENYWA PR. SCHOOL</td>\n",
       "      <td>ARUSHA</td>\n",
       "      <td>ARUSHA</td>\n",
       "      <td>GOVERNMENT</td>\n",
       "      <td>65.31</td>\n",
       "      <td>108.33</td>\n",
       "      <td>7.18</td>\n",
       "      <td>6842</td>\n",
       "    </tr>\n",
       "    <tr>\n",
       "      <th>3</th>\n",
       "      <td>EMAOI PR. SCHOOL</td>\n",
       "      <td>ARUSHA</td>\n",
       "      <td>ARUSHA</td>\n",
       "      <td>GOVERNMENT</td>\n",
       "      <td>100.00</td>\n",
       "      <td>135.09</td>\n",
       "      <td>25.83</td>\n",
       "      <td>2296</td>\n",
       "    </tr>\n",
       "    <tr>\n",
       "      <th>5</th>\n",
       "      <td>ENGALAONI PR. SCHOOL</td>\n",
       "      <td>ARUSHA</td>\n",
       "      <td>ARUSHA</td>\n",
       "      <td>GOVERNMENT</td>\n",
       "      <td>88.10</td>\n",
       "      <td>120.17</td>\n",
       "      <td>30.46</td>\n",
       "      <td>4220</td>\n",
       "    </tr>\n",
       "    <tr>\n",
       "      <th>6</th>\n",
       "      <td>ENGORIKA PR. SCHOOL</td>\n",
       "      <td>ARUSHA</td>\n",
       "      <td>ARUSHA</td>\n",
       "      <td>GOVERNMENT</td>\n",
       "      <td>42.86</td>\n",
       "      <td>100.10</td>\n",
       "      <td>5.98</td>\n",
       "      <td>9195</td>\n",
       "    </tr>\n",
       "    <tr>\n",
       "      <th>7</th>\n",
       "      <td>ENGUTUKOITI PR. SCHOOL</td>\n",
       "      <td>ARUSHA</td>\n",
       "      <td>ARUSHA</td>\n",
       "      <td>GOVERNMENT</td>\n",
       "      <td>4.76</td>\n",
       "      <td>70.10</td>\n",
       "      <td>-25.99</td>\n",
       "      <td>15425</td>\n",
       "    </tr>\n",
       "    <tr>\n",
       "      <th>8</th>\n",
       "      <td>ENYUATA PR. SCHOOL</td>\n",
       "      <td>ARUSHA</td>\n",
       "      <td>ARUSHA</td>\n",
       "      <td>GOVERNMENT</td>\n",
       "      <td>86.55</td>\n",
       "      <td>131.43</td>\n",
       "      <td>11.22</td>\n",
       "      <td>2666</td>\n",
       "    </tr>\n",
       "    <tr>\n",
       "      <th>9</th>\n",
       "      <td>GREEN ACRES PR. SCHOOL</td>\n",
       "      <td>ARUSHA</td>\n",
       "      <td>ARUSHA</td>\n",
       "      <td>NON GOVERNMENT</td>\n",
       "      <td>100.00</td>\n",
       "      <td>200.03</td>\n",
       "      <td>8.15</td>\n",
       "      <td>84</td>\n",
       "    </tr>\n",
       "    <tr>\n",
       "      <th>10</th>\n",
       "      <td>ILBORU PR. SCHOOL</td>\n",
       "      <td>ARUSHA</td>\n",
       "      <td>ARUSHA</td>\n",
       "      <td>GOVERNMENT</td>\n",
       "      <td>93.94</td>\n",
       "      <td>131.69</td>\n",
       "      <td>6.17</td>\n",
       "      <td>2641</td>\n",
       "    </tr>\n",
       "  </tbody>\n",
       "</table>\n",
       "</div>"
      ],
      "text/plain": [
       "                      NAME  REGION DISTRICT       OWNERSHIP  PASS_RATE  \\\n",
       "0       BANGATA PR. SCHOOL  ARUSHA   ARUSHA      GOVERNMENT      51.52   \n",
       "1       BWAWANI PR. SCHOOL  ARUSHA   ARUSHA      GOVERNMENT      26.83   \n",
       "2       EKENYWA PR. SCHOOL  ARUSHA   ARUSHA      GOVERNMENT      65.31   \n",
       "3         EMAOI PR. SCHOOL  ARUSHA   ARUSHA      GOVERNMENT     100.00   \n",
       "5     ENGALAONI PR. SCHOOL  ARUSHA   ARUSHA      GOVERNMENT      88.10   \n",
       "6      ENGORIKA PR. SCHOOL  ARUSHA   ARUSHA      GOVERNMENT      42.86   \n",
       "7   ENGUTUKOITI PR. SCHOOL  ARUSHA   ARUSHA      GOVERNMENT       4.76   \n",
       "8       ENYUATA PR. SCHOOL  ARUSHA   ARUSHA      GOVERNMENT      86.55   \n",
       "9   GREEN ACRES PR. SCHOOL  ARUSHA   ARUSHA  NON GOVERNMENT     100.00   \n",
       "10       ILBORU PR. SCHOOL  ARUSHA   ARUSHA      GOVERNMENT      93.94   \n",
       "\n",
       "    AVG_MARK  CHANGE_PREVIOUS_YEAR   RANK  \n",
       "0      99.29                 13.05   9426  \n",
       "1      85.78                  8.42  13056  \n",
       "2     108.33                  7.18   6842  \n",
       "3     135.09                 25.83   2296  \n",
       "5     120.17                 30.46   4220  \n",
       "6     100.10                  5.98   9195  \n",
       "7      70.10                -25.99  15425  \n",
       "8     131.43                 11.22   2666  \n",
       "9     200.03                  8.15     84  \n",
       "10    131.69                  6.17   2641  "
      ]
     },
     "execution_count": 64,
     "metadata": {},
     "output_type": "execute_result"
    }
   ],
   "source": [
    "df[df.OWNERSHIP.notnull()].head(10)"
   ]
  },
  {
   "cell_type": "markdown",
   "metadata": {},
   "source": [
    "and they are 13033"
   ]
  },
  {
   "cell_type": "code",
   "execution_count": 67,
   "metadata": {
    "collapsed": false
   },
   "outputs": [
    {
     "data": {
      "text/plain": [
       "13033"
      ]
     },
     "execution_count": 67,
     "metadata": {},
     "output_type": "execute_result"
    }
   ],
   "source": [
    "df[df.OWNERSHIP.notnull()].shape[0]"
   ]
  },
  {
   "cell_type": "markdown",
   "metadata": {},
   "source": [
    "Lets plot a pie chat to visualize the data"
   ]
  },
  {
   "cell_type": "code",
   "execution_count": 77,
   "metadata": {
    "collapsed": false
   },
   "outputs": [
    {
     "name": "stdout",
     "output_type": "stream",
     "text": [
      "15866\n"
     ]
    }
   ],
   "source": [
    "government_schools =sum(df.OWNERSHIP=='GOVERNMENT') #Government schools\n",
    "nongovernment_schools =sum(df.OWNERSHIP=='NON GOVERNMENT') #nongovernment schools\n",
    "unknown = sum(df.OWNERSHIP.isnull()) #number of shools with unknown ownership\n",
    "schl=df.shape[0] #number of schools\n"
   ]
  },
  {
   "cell_type": "code",
   "execution_count": 89,
   "metadata": {
    "collapsed": false
   },
   "outputs": [
    {
     "data": {
      "image/png": "[encoded data removed]",
      "text/plain": [
       "<matplotlib.figure.Figure at 0x7fbace9c9250>"
      ]
     },
     "metadata": {},
     "output_type": "display_data"
    }
   ],
   "source": [
    "Labels =['Govenment', 'Non Government','Unknown']\n",
    "fractions =[float(government_schools)/schl, float(nongovernment_schools)/schl, float(unknown)/schl] #percentage\n",
    "colors = ['yellowgreen', 'gold', 'lightskyblue'] #colors for pie chart\n",
    "explode = (0, 0, 0) #only explode the first slice\n",
    "\n",
    "plt.pie(fractions, explode=explode, labels=Labels, colors=colors,\n",
    "        autopct='%1.1f%%', shadow=True, startangle=90)\n",
    "# Set aspect ratio to be equal so that pie is drawn as a circle.\n",
    "plt.axis('equal')\n",
    "plt.show()"
   ]
  },
  {
   "cell_type": "code",
   "execution_count": null,
   "metadata": {
    "collapsed": false
   },
   "outputs": [],
   "source": [
    "df[['PASS_RATE','AVG_MARK','CHANGE_PREVIOUS_YEAR']]"
   ]
  },
  {
   "cell_type": "code",
   "execution_count": null,
   "metadata": {
    "collapsed": true
   },
   "outputs": [],
   "source": []
  }
 ],
 "metadata": {
  "kernelspec": {
   "display_name": "Python 2",
   "language": "python",
   "name": "python2"
  },
  "language_info": {
   "codemirror_mode": {
    "name": "ipython",
    "version": 2
   },
   "file_extension": ".py",
   "mimetype": "text/x-python",
   "name": "python",
   "nbconvert_exporter": "python",
   "pygments_lexer": "ipython2",
   "version": "2.7.10"
  }
 },
 "nbformat": 4,
 "nbformat_minor": 0
}
